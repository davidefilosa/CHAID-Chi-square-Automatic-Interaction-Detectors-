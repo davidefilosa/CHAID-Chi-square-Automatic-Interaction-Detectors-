{
 "cells": [
  {
   "cell_type": "markdown",
   "id": "a300826e",
   "metadata": {},
   "source": [
    "# What will we do in this project?\n",
    "\n",
    "In this project we will analyze what drives the choice of recruiters to call back candidates and we will also try to understand if having an ethnic name lowers the probability of being called back.\n",
    "\n",
    "To do this we will use **Chi-square automatic interaction detection (CHAID)**.\n",
    "\n",
    "CHAID is a decision tree technique used to discover the relationship between variables. \n",
    "\n",
    "We can do both drive analysis to understand what matters the most and segmentation. CHAID is different from other segmentation techniques which have only independent variables while CHAID also has a dependent variable.\n",
    "\n",
    "In practice, CHAID is often used in the context of direct marketing to select groups of consumers to predict how their responses to some variables affect other variables.\n",
    "\n",
    "## Benefits of using CHAID\n",
    "\n",
    "### Importance Ranking:\n",
    "CHAID figures out which variables matter more by doing significance tests\n",
    "\n",
    "### Segmented Driver Analysis\n",
    "CHAID will segment the population and perform driver analysis for each segment\n",
    "\n",
    "### Interpretability\n",
    "CHAID provides easy to read graphs"
   ]
  },
  {
   "cell_type": "code",
   "execution_count": 1,
   "id": "9e548497",
   "metadata": {},
   "outputs": [],
   "source": [
    "# Import library\n",
    "import pandas as pd\n",
    "import numpy as np\n",
    "import matplotlib.pyplot as plt\n",
    "import statsmodels.api as sm\n",
    "from CHAID import Tree\n",
    "import seaborn as sns\n",
    "import matplotlib.pyplot as plt\n",
    "import orca\n",
    "import plotly\n",
    "import plotly.graph_objects as go\n",
    "import graphviz\n",
    "\n"
   ]
  },
  {
   "cell_type": "code",
   "execution_count": 2,
   "id": "f7e2c2b0",
   "metadata": {},
   "outputs": [],
   "source": [
    "# Import the data\n",
    "df = pd.read_csv('resumenames.csv')"
   ]
  },
  {
   "cell_type": "code",
   "execution_count": 3,
   "id": "e4b45850",
   "metadata": {},
   "outputs": [
    {
     "data": {
      "text/html": [
       "<div>\n",
       "<style scoped>\n",
       "    .dataframe tbody tr th:only-of-type {\n",
       "        vertical-align: middle;\n",
       "    }\n",
       "\n",
       "    .dataframe tbody tr th {\n",
       "        vertical-align: top;\n",
       "    }\n",
       "\n",
       "    .dataframe thead th {\n",
       "        text-align: right;\n",
       "    }\n",
       "</style>\n",
       "<table border=\"1\" class=\"dataframe\">\n",
       "  <thead>\n",
       "    <tr style=\"text-align: right;\">\n",
       "      <th></th>\n",
       "      <th>Unnamed: 0</th>\n",
       "      <th>name</th>\n",
       "      <th>gender</th>\n",
       "      <th>ethnicity</th>\n",
       "      <th>quality</th>\n",
       "      <th>call</th>\n",
       "      <th>city</th>\n",
       "      <th>jobs</th>\n",
       "      <th>experience</th>\n",
       "      <th>honors</th>\n",
       "      <th>...</th>\n",
       "      <th>minimum</th>\n",
       "      <th>equal</th>\n",
       "      <th>wanted</th>\n",
       "      <th>requirements</th>\n",
       "      <th>reqexp</th>\n",
       "      <th>reqcomm</th>\n",
       "      <th>reqeduc</th>\n",
       "      <th>reqcomp</th>\n",
       "      <th>reqorg</th>\n",
       "      <th>industry</th>\n",
       "    </tr>\n",
       "  </thead>\n",
       "  <tbody>\n",
       "    <tr>\n",
       "      <th>0</th>\n",
       "      <td>1</td>\n",
       "      <td>Allison</td>\n",
       "      <td>female</td>\n",
       "      <td>cauc</td>\n",
       "      <td>low</td>\n",
       "      <td>no</td>\n",
       "      <td>chicago</td>\n",
       "      <td>2</td>\n",
       "      <td>6</td>\n",
       "      <td>no</td>\n",
       "      <td>...</td>\n",
       "      <td>5</td>\n",
       "      <td>yes</td>\n",
       "      <td>supervisor</td>\n",
       "      <td>yes</td>\n",
       "      <td>yes</td>\n",
       "      <td>no</td>\n",
       "      <td>no</td>\n",
       "      <td>yes</td>\n",
       "      <td>no</td>\n",
       "      <td>manufacturing</td>\n",
       "    </tr>\n",
       "    <tr>\n",
       "      <th>1</th>\n",
       "      <td>2</td>\n",
       "      <td>Kristen</td>\n",
       "      <td>female</td>\n",
       "      <td>cauc</td>\n",
       "      <td>high</td>\n",
       "      <td>no</td>\n",
       "      <td>chicago</td>\n",
       "      <td>3</td>\n",
       "      <td>6</td>\n",
       "      <td>no</td>\n",
       "      <td>...</td>\n",
       "      <td>5</td>\n",
       "      <td>yes</td>\n",
       "      <td>supervisor</td>\n",
       "      <td>yes</td>\n",
       "      <td>yes</td>\n",
       "      <td>no</td>\n",
       "      <td>no</td>\n",
       "      <td>yes</td>\n",
       "      <td>no</td>\n",
       "      <td>manufacturing</td>\n",
       "    </tr>\n",
       "    <tr>\n",
       "      <th>2</th>\n",
       "      <td>3</td>\n",
       "      <td>Lakisha</td>\n",
       "      <td>female</td>\n",
       "      <td>afam</td>\n",
       "      <td>low</td>\n",
       "      <td>no</td>\n",
       "      <td>chicago</td>\n",
       "      <td>1</td>\n",
       "      <td>6</td>\n",
       "      <td>no</td>\n",
       "      <td>...</td>\n",
       "      <td>5</td>\n",
       "      <td>yes</td>\n",
       "      <td>supervisor</td>\n",
       "      <td>yes</td>\n",
       "      <td>yes</td>\n",
       "      <td>no</td>\n",
       "      <td>no</td>\n",
       "      <td>yes</td>\n",
       "      <td>no</td>\n",
       "      <td>manufacturing</td>\n",
       "    </tr>\n",
       "    <tr>\n",
       "      <th>3</th>\n",
       "      <td>4</td>\n",
       "      <td>Latonya</td>\n",
       "      <td>female</td>\n",
       "      <td>afam</td>\n",
       "      <td>high</td>\n",
       "      <td>no</td>\n",
       "      <td>chicago</td>\n",
       "      <td>4</td>\n",
       "      <td>6</td>\n",
       "      <td>no</td>\n",
       "      <td>...</td>\n",
       "      <td>5</td>\n",
       "      <td>yes</td>\n",
       "      <td>supervisor</td>\n",
       "      <td>yes</td>\n",
       "      <td>yes</td>\n",
       "      <td>no</td>\n",
       "      <td>no</td>\n",
       "      <td>yes</td>\n",
       "      <td>no</td>\n",
       "      <td>manufacturing</td>\n",
       "    </tr>\n",
       "    <tr>\n",
       "      <th>4</th>\n",
       "      <td>5</td>\n",
       "      <td>Carrie</td>\n",
       "      <td>female</td>\n",
       "      <td>cauc</td>\n",
       "      <td>high</td>\n",
       "      <td>no</td>\n",
       "      <td>chicago</td>\n",
       "      <td>3</td>\n",
       "      <td>22</td>\n",
       "      <td>no</td>\n",
       "      <td>...</td>\n",
       "      <td>some</td>\n",
       "      <td>yes</td>\n",
       "      <td>secretary</td>\n",
       "      <td>yes</td>\n",
       "      <td>yes</td>\n",
       "      <td>no</td>\n",
       "      <td>no</td>\n",
       "      <td>yes</td>\n",
       "      <td>yes</td>\n",
       "      <td>health/education/social services</td>\n",
       "    </tr>\n",
       "  </tbody>\n",
       "</table>\n",
       "<p>5 rows × 28 columns</p>\n",
       "</div>"
      ],
      "text/plain": [
       "   Unnamed: 0     name  gender ethnicity quality call     city  jobs  \\\n",
       "0           1  Allison  female      cauc     low   no  chicago     2   \n",
       "1           2  Kristen  female      cauc    high   no  chicago     3   \n",
       "2           3  Lakisha  female      afam     low   no  chicago     1   \n",
       "3           4  Latonya  female      afam    high   no  chicago     4   \n",
       "4           5   Carrie  female      cauc    high   no  chicago     3   \n",
       "\n",
       "   experience honors  ... minimum equal      wanted requirements reqexp  \\\n",
       "0           6     no  ...       5   yes  supervisor          yes    yes   \n",
       "1           6     no  ...       5   yes  supervisor          yes    yes   \n",
       "2           6     no  ...       5   yes  supervisor          yes    yes   \n",
       "3           6     no  ...       5   yes  supervisor          yes    yes   \n",
       "4          22     no  ...    some   yes   secretary          yes    yes   \n",
       "\n",
       "  reqcomm reqeduc reqcomp reqorg                          industry  \n",
       "0      no      no     yes     no                     manufacturing  \n",
       "1      no      no     yes     no                     manufacturing  \n",
       "2      no      no     yes     no                     manufacturing  \n",
       "3      no      no     yes     no                     manufacturing  \n",
       "4      no      no     yes    yes  health/education/social services  \n",
       "\n",
       "[5 rows x 28 columns]"
      ]
     },
     "execution_count": 3,
     "metadata": {},
     "output_type": "execute_result"
    }
   ],
   "source": [
    "df.head()"
   ]
  },
  {
   "cell_type": "markdown",
   "id": "1ec8ddfc",
   "metadata": {},
   "source": [
    "## How to read the data?\n",
    "\n",
    "- name:\n",
    "factor indicating applicant's first name.\n",
    "- gender:\n",
    "factor indicating gender.\n",
    "- ethnicity:\n",
    "factor indicating ethnicity (i.e., Caucasian-sounding vs. African-American sounding first name).\n",
    "- quality:\n",
    "factor indicating quality of resume.\n",
    "- call:\n",
    "factor. Was the applicant called back?\n",
    "- city:\n",
    "factor indicating city: Boston or Chicago.\n",
    "- jobs:\n",
    "number of jobs listed on resume.\n",
    "- experience:\n",
    "number of years of work experience on the resume.\n",
    "- honors:\n",
    "factor. Did the resume mention some honors?\n",
    "- volunteer:\n",
    "factor. Did the resume mention some volunteering experience?\n",
    "- military:\n",
    "factor. Does the applicant have military experience?\n",
    "- holes:\n",
    "factor. Does the resume have some employment holes?\n",
    "- school:\n",
    "factor. Does the resume mention some work experience while at school?\n",
    "- email:\n",
    "factor. Was the e-mail address on the applicant's resume?\n",
    "- computer:\n",
    "factor. Does the resume mention some computer skills?\n",
    "- special:\n",
    "factor. Does the resume mention some special skills?\n",
    "- college:\n",
    "factor. Does the applicant have a college degree or more?\n",
    "- minimum:\n",
    "factor indicating minimum experience requirement of the employer.\n",
    "- equal:\n",
    "factor. Is the employer EOE (equal opportunity employment)?\n",
    "- wanted:\n",
    "factor indicating type of position wanted by employer.\n",
    "- requirements:\n",
    "factor. Does the ad mention some requirement for the job?\n",
    "- reqexp:\n",
    "factor. Does the ad mention some experience requirement?\n",
    "- reqcomm:\n",
    "factor. Does the ad mention some communication skills requirement?\n",
    "- reqeduc:\n",
    "factor. Does the ad mention some educational requirement?\n",
    "- reqcomp:\n",
    "factor. Does the ad mention some computer skills requirement?\n",
    "- reqorg:\n",
    "factor. Does the ad mention some organizational skills requirement?\n",
    "- industry:\n",
    "factor indicating type of employer industry."
   ]
  },
  {
   "cell_type": "markdown",
   "id": "a5f4c581",
   "metadata": {},
   "source": [
    "# How CHAID (Chi-square Automatic Interaction Detectors) works?\n",
    "\n",
    "CHAID will use every predictor variable to split the sample based on this factor and performs a Chi-square test to check if  a statistically significant relationship between the factor and the response variable exists. If a statistically significant difference is observed then the most significant factor is used to make a split, which becomes the next branch in the tree.\n",
    "\n",
    "The process repeats to find the predictor variable on each leaf that is most significantly related to the response, branch by branch, until no further factors are found to have a statistically significant effect on the response variable.\n",
    "\n"
   ]
  },
  {
   "cell_type": "markdown",
   "id": "3c667d88",
   "metadata": {},
   "source": [
    "### Data Preparation"
   ]
  },
  {
   "cell_type": "code",
   "execution_count": 4,
   "id": "0505b023",
   "metadata": {},
   "outputs": [],
   "source": [
    "# remove name valiable\n",
    "df = df.drop(columns=['Unnamed: 0','name'], axis=1)"
   ]
  },
  {
   "cell_type": "markdown",
   "id": "e142708d",
   "metadata": {},
   "source": [
    "### Transform numeric variables in categorical variables\n"
   ]
  },
  {
   "cell_type": "code",
   "execution_count": 5,
   "id": "cb4f628e",
   "metadata": {},
   "outputs": [
    {
     "data": {
      "text/plain": [
       "gender           2\n",
       "ethnicity        2\n",
       "quality          2\n",
       "call             2\n",
       "city             2\n",
       "jobs             7\n",
       "experience      26\n",
       "honors           2\n",
       "volunteer        2\n",
       "military         2\n",
       "holes            2\n",
       "school           2\n",
       "email            2\n",
       "computer         2\n",
       "special          2\n",
       "college          2\n",
       "minimum         13\n",
       "equal            2\n",
       "wanted           6\n",
       "requirements     2\n",
       "reqexp           2\n",
       "reqcomm          2\n",
       "reqeduc          2\n",
       "reqcomp          2\n",
       "reqorg           2\n",
       "industry         7\n",
       "dtype: int64"
      ]
     },
     "execution_count": 5,
     "metadata": {},
     "output_type": "execute_result"
    }
   ],
   "source": [
    "# find unique value\n",
    "df.nunique()"
   ]
  },
  {
   "cell_type": "code",
   "execution_count": 6,
   "id": "d92cb48d",
   "metadata": {},
   "outputs": [
    {
     "data": {
      "text/plain": [
       "gender          object\n",
       "ethnicity       object\n",
       "quality         object\n",
       "call            object\n",
       "city            object\n",
       "jobs             int64\n",
       "experience       int64\n",
       "honors          object\n",
       "volunteer       object\n",
       "military        object\n",
       "holes           object\n",
       "school          object\n",
       "email           object\n",
       "computer        object\n",
       "special         object\n",
       "college         object\n",
       "minimum         object\n",
       "equal           object\n",
       "wanted          object\n",
       "requirements    object\n",
       "reqexp          object\n",
       "reqcomm         object\n",
       "reqeduc         object\n",
       "reqcomp         object\n",
       "reqorg          object\n",
       "industry        object\n",
       "dtype: object"
      ]
     },
     "execution_count": 6,
     "metadata": {},
     "output_type": "execute_result"
    }
   ],
   "source": [
    "df.dtypes"
   ]
  },
  {
   "cell_type": "code",
   "execution_count": 7,
   "id": "7510737c",
   "metadata": {},
   "outputs": [
    {
     "data": {
      "image/png": "[encoded data removed]",
      "text/plain": [
       "<Figure size 432x288 with 1 Axes>"
      ]
     },
     "metadata": {
      "needs_background": "light"
     },
     "output_type": "display_data"
    }
   ],
   "source": [
    "# trnsforming numeric variables in categorical variables\n",
    "sns.kdeplot(x=df['jobs'])\n",
    "plt.show()"
   ]
  },
  {
   "cell_type": "code",
   "execution_count": 8,
   "id": "60600786",
   "metadata": {},
   "outputs": [],
   "source": [
    "#transforming job variable\n",
    "df['jobs'] = pd.cut(x= df['jobs'], bins=[-1, 2.9, 4.9, 9], labels=[0,1,2])\n",
    "df['jobs'] = pd.factorize(df['jobs'])[0]"
   ]
  },
  {
   "cell_type": "code",
   "execution_count": 9,
   "id": "6dd1efa2",
   "metadata": {},
   "outputs": [
    {
     "data": {
      "text/plain": [
       "array([0, 1, 2], dtype=int64)"
      ]
     },
     "execution_count": 9,
     "metadata": {},
     "output_type": "execute_result"
    }
   ],
   "source": [
    "df['jobs'].unique()"
   ]
  },
  {
   "cell_type": "code",
   "execution_count": 10,
   "id": "1d5d9660",
   "metadata": {},
   "outputs": [
    {
     "data": {
      "image/png": "[encoded data removed]",
      "text/plain": [
       "<Figure size 432x288 with 1 Axes>"
      ]
     },
     "metadata": {
      "needs_background": "light"
     },
     "output_type": "display_data"
    }
   ],
   "source": [
    "# trnsforming experience variables\n",
    "sns.kdeplot(x=df['experience'])\n",
    "plt.show()"
   ]
  },
  {
   "cell_type": "code",
   "execution_count": 11,
   "id": "b1c29843",
   "metadata": {},
   "outputs": [],
   "source": [
    "df['experience'] = pd.qcut(x= df['experience'], q=3, labels=[0,1,2]) # using quantiles\n",
    "df['experience'] = pd.factorize(df['experience'])[0]"
   ]
  },
  {
   "cell_type": "code",
   "execution_count": 12,
   "id": "d9b39715",
   "metadata": {},
   "outputs": [
    {
     "data": {
      "text/plain": [
       "none    2746\n",
       "some    1064\n",
       "2        356\n",
       "3        331\n",
       "5        163\n",
       "1        142\n",
       "10        18\n",
       "7         12\n",
       "8         10\n",
       "0.5        8\n",
       "4          8\n",
       "6          8\n",
       "0          4\n",
       "Name: minimum, dtype: int64"
      ]
     },
     "execution_count": 12,
     "metadata": {},
     "output_type": "execute_result"
    }
   ],
   "source": [
    "# transform Minimum Variable\n",
    "df['minimum'].value_counts()"
   ]
  },
  {
   "cell_type": "code",
   "execution_count": 13,
   "id": "12f72b93",
   "metadata": {},
   "outputs": [],
   "source": [
    "minimum_dict = {'none': 0,\n",
    "                          '0': 0,\n",
    "                          '0.5': 0,\n",
    "                          '1': 1,\n",
    "                          '2': 1,\n",
    "                          'some': 2,\n",
    "                          '3': 2,\n",
    "                          '4': 2,\n",
    "                          '5': 3,\n",
    "                          '6': 3,\n",
    "                          '7': 3,\n",
    "                          '8': 3,\n",
    "                          '10': 3}\n",
    "\n",
    "\n",
    "df['minimum'] = df['minimum'].replace(minimum_dict)"
   ]
  },
  {
   "cell_type": "code",
   "execution_count": 14,
   "id": "a2bed949",
   "metadata": {},
   "outputs": [
    {
     "data": {
      "text/plain": [
       "0    2758\n",
       "2    1403\n",
       "1     498\n",
       "3     211\n",
       "Name: minimum, dtype: int64"
      ]
     },
     "execution_count": 14,
     "metadata": {},
     "output_type": "execute_result"
    }
   ],
   "source": [
    "\n",
    "df['minimum'].value_counts()"
   ]
  },
  {
   "cell_type": "markdown",
   "id": "fc997ffb",
   "metadata": {},
   "source": [
    "### Creating dummies variables\n"
   ]
  },
  {
   "cell_type": "code",
   "execution_count": 15,
   "id": "877d0ce5",
   "metadata": {},
   "outputs": [],
   "source": [
    "df = pd.get_dummies(df, drop_first=True) # drop first column to avoid dummy variable trap "
   ]
  },
  {
   "cell_type": "code",
   "execution_count": 16,
   "id": "62f1447b",
   "metadata": {},
   "outputs": [
    {
     "data": {
      "text/html": [
       "<div>\n",
       "<style scoped>\n",
       "    .dataframe tbody tr th:only-of-type {\n",
       "        vertical-align: middle;\n",
       "    }\n",
       "\n",
       "    .dataframe tbody tr th {\n",
       "        vertical-align: top;\n",
       "    }\n",
       "\n",
       "    .dataframe thead th {\n",
       "        text-align: right;\n",
       "    }\n",
       "</style>\n",
       "<table border=\"1\" class=\"dataframe\">\n",
       "  <thead>\n",
       "    <tr style=\"text-align: right;\">\n",
       "      <th></th>\n",
       "      <th>jobs</th>\n",
       "      <th>experience</th>\n",
       "      <th>minimum</th>\n",
       "      <th>gender_male</th>\n",
       "      <th>ethnicity_cauc</th>\n",
       "      <th>quality_low</th>\n",
       "      <th>call_yes</th>\n",
       "      <th>city_chicago</th>\n",
       "      <th>honors_yes</th>\n",
       "      <th>volunteer_yes</th>\n",
       "      <th>...</th>\n",
       "      <th>reqcomm_yes</th>\n",
       "      <th>reqeduc_yes</th>\n",
       "      <th>reqcomp_yes</th>\n",
       "      <th>reqorg_yes</th>\n",
       "      <th>industry_finance/insurance/real estate</th>\n",
       "      <th>industry_health/education/social services</th>\n",
       "      <th>industry_manufacturing</th>\n",
       "      <th>industry_trade</th>\n",
       "      <th>industry_transport/communication</th>\n",
       "      <th>industry_unknown</th>\n",
       "    </tr>\n",
       "  </thead>\n",
       "  <tbody>\n",
       "    <tr>\n",
       "      <th>0</th>\n",
       "      <td>0</td>\n",
       "      <td>0</td>\n",
       "      <td>3</td>\n",
       "      <td>0</td>\n",
       "      <td>1</td>\n",
       "      <td>1</td>\n",
       "      <td>0</td>\n",
       "      <td>1</td>\n",
       "      <td>0</td>\n",
       "      <td>0</td>\n",
       "      <td>...</td>\n",
       "      <td>0</td>\n",
       "      <td>0</td>\n",
       "      <td>1</td>\n",
       "      <td>0</td>\n",
       "      <td>0</td>\n",
       "      <td>0</td>\n",
       "      <td>1</td>\n",
       "      <td>0</td>\n",
       "      <td>0</td>\n",
       "      <td>0</td>\n",
       "    </tr>\n",
       "  </tbody>\n",
       "</table>\n",
       "<p>1 rows × 35 columns</p>\n",
       "</div>"
      ],
      "text/plain": [
       "   jobs  experience  minimum  gender_male  ethnicity_cauc  quality_low  \\\n",
       "0     0           0        3            0               1            1   \n",
       "\n",
       "   call_yes  city_chicago  honors_yes  volunteer_yes  ...  reqcomm_yes  \\\n",
       "0         0             1           0              0  ...            0   \n",
       "\n",
       "   reqeduc_yes  reqcomp_yes  reqorg_yes  \\\n",
       "0            0            1           0   \n",
       "\n",
       "   industry_finance/insurance/real estate  \\\n",
       "0                                       0   \n",
       "\n",
       "   industry_health/education/social services  industry_manufacturing  \\\n",
       "0                                          0                       1   \n",
       "\n",
       "   industry_trade  industry_transport/communication  industry_unknown  \n",
       "0               0                                 0                 0  \n",
       "\n",
       "[1 rows x 35 columns]"
      ]
     },
     "execution_count": 16,
     "metadata": {},
     "output_type": "execute_result"
    }
   ],
   "source": [
    "df.head(1)"
   ]
  },
  {
   "cell_type": "markdown",
   "id": "f8050488",
   "metadata": {},
   "source": [
    "## Preparing data for CHAID"
   ]
  },
  {
   "cell_type": "code",
   "execution_count": 17,
   "id": "1f9253b5",
   "metadata": {},
   "outputs": [],
   "source": [
    "# get y name\n",
    "\n",
    "y_name = df['call_yes'].name # will be our dependent variable"
   ]
  },
  {
   "cell_type": "code",
   "execution_count": 18,
   "id": "cfaa12b0",
   "metadata": {},
   "outputs": [],
   "source": [
    "# get indipendent variables names\n",
    "X_names = df.drop(columns=['call_yes'], axis=1).columns"
   ]
  },
  {
   "cell_type": "code",
   "execution_count": 19,
   "id": "33a0b8af",
   "metadata": {},
   "outputs": [
    {
     "name": "stdout",
     "output_type": "stream",
     "text": [
      "Index(['jobs', 'experience', 'minimum', 'gender_male', 'ethnicity_cauc',\n",
      "       'quality_low', 'city_chicago', 'honors_yes', 'volunteer_yes',\n",
      "       'military_yes', 'holes_yes', 'school_yes', 'email_yes', 'computer_yes',\n",
      "       'special_yes', 'college_yes', 'equal_yes', 'wanted_office support',\n",
      "       'wanted_other', 'wanted_retail sales', 'wanted_secretary',\n",
      "       'wanted_supervisor', 'requirements_yes', 'reqexp_yes', 'reqcomm_yes',\n",
      "       'reqeduc_yes', 'reqcomp_yes', 'reqorg_yes',\n",
      "       'industry_finance/insurance/real estate',\n",
      "       'industry_health/education/social services', 'industry_manufacturing',\n",
      "       'industry_trade', 'industry_transport/communication',\n",
      "       'industry_unknown'],\n",
      "      dtype='object')\n",
      "34\n"
     ]
    }
   ],
   "source": [
    "print(X_names)\n",
    "print(len(X_names))"
   ]
  },
  {
   "cell_type": "markdown",
   "id": "36e3ec80",
   "metadata": {},
   "source": [
    "## We can start to train and fit our model."
   ]
  },
  {
   "cell_type": "code",
   "execution_count": 20,
   "id": "2cf1c6b4",
   "metadata": {},
   "outputs": [
    {
     "data": {
      "text/plain": [
       "{'jobs': 'ordinal',\n",
       " 'experience': 'ordinal',\n",
       " 'minimum': 'ordinal',\n",
       " 'gender_male': 'nominal',\n",
       " 'ethnicity_cauc': 'nominal',\n",
       " 'quality_low': 'nominal',\n",
       " 'city_chicago': 'nominal',\n",
       " 'honors_yes': 'nominal',\n",
       " 'volunteer_yes': 'nominal',\n",
       " 'military_yes': 'nominal',\n",
       " 'holes_yes': 'nominal',\n",
       " 'school_yes': 'nominal',\n",
       " 'email_yes': 'nominal',\n",
       " 'computer_yes': 'nominal',\n",
       " 'special_yes': 'nominal',\n",
       " 'college_yes': 'nominal',\n",
       " 'equal_yes': 'nominal',\n",
       " 'wanted_office support': 'nominal',\n",
       " 'wanted_other': 'nominal',\n",
       " 'wanted_retail sales': 'nominal',\n",
       " 'wanted_secretary': 'nominal',\n",
       " 'wanted_supervisor': 'nominal',\n",
       " 'requirements_yes': 'nominal',\n",
       " 'reqexp_yes': 'nominal',\n",
       " 'reqcomm_yes': 'nominal',\n",
       " 'reqeduc_yes': 'nominal',\n",
       " 'reqcomp_yes': 'nominal',\n",
       " 'reqorg_yes': 'nominal',\n",
       " 'industry_finance/insurance/real estate': 'nominal',\n",
       " 'industry_health/education/social services': 'nominal',\n",
       " 'industry_manufacturing': 'nominal',\n",
       " 'industry_trade': 'nominal',\n",
       " 'industry_transport/communication': 'nominal',\n",
       " 'industry_unknown': 'nominal'}"
      ]
     },
     "execution_count": 20,
     "metadata": {},
     "output_type": "execute_result"
    }
   ],
   "source": [
    "# creating a dictionary with the indipendent variables and if they are ordinal or not\n",
    "\n",
    "X = dict(zip(X_names, ['ordinal']*3 + ['nominal']*31))\n",
    "X"
   ]
  },
  {
   "cell_type": "code",
   "execution_count": 21,
   "id": "01a62baf",
   "metadata": {},
   "outputs": [],
   "source": [
    "model = Tree.from_pandas_df(df, X, y_name, max_depth=3, min_child_node_size=250) "
   ]
  },
  {
   "cell_type": "code",
   "execution_count": 22,
   "id": "4c2c9e9e",
   "metadata": {},
   "outputs": [
    {
     "name": "stdout",
     "output_type": "stream",
     "text": [
      "([], {0: 4478.0, 1: 392.0}, (special_yes, p=9.09108860261878e-15, score=60.08363933760746, groups=[[0], [1]]), dof=1))\n",
      "|-- ([0], {0: 3075.0, 1: 194.0}, (requirements_yes, p=0.0002718068476768014, score=13.25532368278205, groups=[[0], [1]]), dof=1))\n",
      "|   |-- ([0], {0: 576.0, 1: 57.0}, (experience, p=0.003975225728095155, score=8.295096983690131, groups=[[0], [1, 2]]), dof=1))\n",
      "|   |   |-- ([0], {0: 346.0, 1: 23.0}, <Invalid Chaid Split> - the max depth has been reached)\n",
      "|   |   +-- ([1, 2], {0: 230.0, 1: 34.0}, <Invalid Chaid Split> - the max depth has been reached)\n",
      "|   +-- ([1], {0: 2499.0, 1: 137.0}, (ethnicity_cauc, p=0.03903799830275106, score=4.2592132081738185, groups=[[0], [1]]), dof=1))\n",
      "|       |-- ([0], {0: 1266.0, 1: 57.0}, <Invalid Chaid Split> - the max depth has been reached)\n",
      "|       +-- ([1], {0: 1233.0, 1: 80.0}, <Invalid Chaid Split> - the max depth has been reached)\n",
      "+-- ([1], {0: 1403.0, 1: 198.0}, (city_chicago, p=0.0003119135961753523, score=12.99746120113997, groups=[[0], [1]]), dof=1))\n",
      "    |-- ([0], {0: 555.0, 1: 105.0}, (email_yes, p=0.001122604699266432, score=10.613574403896983, groups=[[0], [1]]), dof=1))\n",
      "    |   |-- ([0], {0: 328.0, 1: 44.0}, <Invalid Chaid Split> - the max depth has been reached)\n",
      "    |   +-- ([1], {0: 227.0, 1: 61.0}, <Invalid Chaid Split> - the max depth has been reached)\n",
      "    +-- ([1], {0: 848.0, 1: 93.0}, (experience, p=0.004647986588530992, score=8.011552783573414, groups=[[0, 1], [2]]), dof=1))\n",
      "        |-- ([0, 1], {0: 371.0, 1: 55.0}, <Invalid Chaid Split> - the max depth has been reached)\n",
      "        +-- ([2], {0: 477.0, 1: 38.0}, <Invalid Chaid Split> - the max depth has been reached)\n",
      "\n"
     ]
    }
   ],
   "source": [
    "model.print_tree()"
   ]
  },
  {
   "cell_type": "markdown",
   "id": "b7877325",
   "metadata": {},
   "source": [
    "## How to read these results?\n",
    "\n",
    "The CHAID model shows us that the most important predictor is special_yes, this means that **the candidates who have indicated some special skill in the resume have a high probability of being recalled.**\n",
    "\n",
    "To answer our question whether having an ethnic name lowers the probability of being called back, the model shows us that if no special skill has been indicated and the job has requirements, **having a name that sounds Caucasian significantly increases the possibility of being recalled: in fact, 94% were called back.**\n"
   ]
  },
  {
   "cell_type": "markdown",
   "id": "571d232c",
   "metadata": {},
   "source": [
    "## Visualization"
   ]
  },
  {
   "cell_type": "code",
   "execution_count": null,
   "id": "107ab4f7",
   "metadata": {},
   "outputs": [],
   "source": [
    "# export a graphic rappresentation of the decision tree\n",
    "model.to_tree()\n",
    "model.render(path=None, view=False)"
   ]
  },
  {
   "cell_type": "code",
   "execution_count": null,
   "id": "c05bebd1",
   "metadata": {},
   "outputs": [],
   "source": []
  },
  {
   "cell_type": "code",
   "execution_count": null,
   "id": "8086baee",
   "metadata": {},
   "outputs": [],
   "source": []
  },
  {
   "cell_type": "code",
   "execution_count": null,
   "id": "5a2795ff",
   "metadata": {},
   "outputs": [],
   "source": []
  }
 ],
 "metadata": {
  "kernelspec": {
   "display_name": "Python 3 (ipykernel)",
   "language": "python",
   "name": "python3"
  },
  "language_info": {
   "codemirror_mode": {
    "name": "ipython",
    "version": 3
   },
   "file_extension": ".py",
   "mimetype": "text/x-python",
   "name": "python",
   "nbconvert_exporter": "python",
   "pygments_lexer": "ipython3",
   "version": "3.9.12"
  }
 },
 "nbformat": 4,
 "nbformat_minor": 5
}
